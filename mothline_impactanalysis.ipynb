{
 "cells": [
  {
   "cell_type": "markdown",
   "metadata": {
    "deletable": true,
    "editable": true
   },
   "source": [
    "<div align=\"center\">\n",
    "This is a sample analysis of gypsy moth infestation on counties in Virginia with the moth and county data downloaded from  \n",
    "<a href=\"http://globe.asets.msu.edu/sts_mapserver/\" class=\"btn\">Slow the Spread map viewer</a>\n",
    "</div>"
   ]
  },
  {
   "cell_type": "markdown",
   "metadata": {
    "deletable": true,
    "editable": true
   },
   "source": [
    "### Spatial analysis of impact of gypsy moth infestation\n",
    "This analysis is used to extract the parts of counties in Virginia that are effected by moth line. These features can then be used to study the impact on county specific forestry and property values. "
   ]
  },
  {
   "cell_type": "code",
   "execution_count": null,
   "metadata": {
    "collapsed": true,
    "deletable": true,
    "editable": true
   },
   "outputs": [],
   "source": [
    "import datetime\n",
    "import arcgis\n",
    "from arcgis.gis import GIS\n",
    "from IPython.display import display\n",
    "\n",
    "gis = GIS(\"https://www.arcgis.com\",\"user\",\"pass\")\n",
    "gis.content.search('title:Mothline')"
   ]
  },
  {
   "cell_type": "code",
   "execution_count": 7,
   "metadata": {
    "collapsed": false,
    "deletable": true,
    "editable": true
   },
   "outputs": [
    {
     "data": {
      "text/html": [
       "<div class=\"item_container\" style=\"height: auto; overflow: hidden; border: 1px solid #cfcfcf; border-radius: 2px; background: #f6fafa; line-height: 1.21429em; padding: 10px;\">\n",
       "                    <div class=\"item_left\" style=\"width: 210px; float: left;\">\n",
       "                       <a href='https://www.arcgis.com/home/item.html?id=451cdff0637b413b9a23d580094d005f' target='_blank'>\n",
       "                        <img src='data:image/png;base64,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' width='200' height='133' class=\"itemThumbnail\">\n",
       "                       </a>\n",
       "                    </div>\n",
       "\n",
       "                    <div class=\"item_right\"     style=\"float: none; width: auto; overflow: hidden;\">\n",
       "                        <a href='https://www.arcgis.com/home/item.html?id=451cdff0637b413b9a23d580094d005f' target='_blank'><b>Mothline</b>\n",
       "                        </a>\n",
       "                        <br/><img src='https://www.arcgis.com/home/js/jsapi/esri/css/images/item_type_icons/featureshosted16.png' style=\"vertical-align:middle;\">Feature Layer Collection by arcgis_python\n",
       "                        <br/>Last Modified: April 16, 2017\n",
       "                        <br/>0 comments, 0 views\n",
       "                    </div>\n",
       "                </div>\n",
       "                "
      ],
      "text/plain": [
       "<Item title:\"Mothline\" type:Feature Service owner:arcgis_python>"
      ]
     },
     "execution_count": 7,
     "metadata": {},
     "output_type": "execute_result"
    }
   ],
   "source": [
    "mothline_layer = gis.content.search('title:Mothline')[1]\n",
    "mothline_layer"
   ]
  },
  {
   "cell_type": "markdown",
   "metadata": {
    "deletable": true,
    "editable": true
   },
   "source": [
    "### Buffer analysis from gypsy moths in Virginia\n",
    "Let us create a map widget to see the fire related information in it's geographic context:"
   ]
  },
  {
   "cell_type": "code",
   "execution_count": 16,
   "metadata": {
    "collapsed": false,
    "deletable": true,
    "editable": true
   },
   "outputs": [],
   "source": [
    "# create a map zoomed to Virginia\n",
    "virginia_map = gis.map('Virginia', 6)\n",
    "# add the moth data\n",
    "virginia_map.add_layer(mothline_layer)\n",
    "virginia_map"
   ]
  },
  {
   "cell_type": "code",
   "execution_count": 18,
   "metadata": {
    "collapsed": false
   },
   "outputs": [],
   "source": [
    "from arcgis.features.use_proximity import create_buffers\n",
    "\n",
    "moth_buffers = create_buffers(mothline_layer, [3], None, 'Miles', output_name=\"moth_Buffers_42017\" )\n",
    "\n",
    "virginia_map.add_layer(moth_buffers)"
   ]
  },
  {
   "cell_type": "code",
   "execution_count": 20,
   "metadata": {
    "collapsed": false
   },
   "outputs": [
    {
     "data": {
      "text/plain": [
       "{'itemId': '866588ed4b40454484b5d6cc3fda01d7', 'notSharedWith': []}"
      ]
     },
     "execution_count": 20,
     "metadata": {},
     "output_type": "execute_result"
    }
   ],
   "source": [
    "moth_buffers.share(True)"
   ]
  },
  {
   "cell_type": "code",
   "execution_count": 71,
   "metadata": {
    "collapsed": true
   },
   "outputs": [],
   "source": [
    "virgnia_map.add_layer(moth_buffers)\n",
    "moth_buffers.share(True)"
   ]
  },
  {
   "cell_type": "markdown",
   "metadata": {
    "deletable": true,
    "editable": true
   },
   "source": [
    "### Add counties layer to map\n"
   ]
  },
  {
   "cell_type": "code",
   "execution_count": 23,
   "metadata": {
    "collapsed": false
   },
   "outputs": [
    {
     "data": {
      "text/plain": [
       "{'itemId': '0cdee9dddd8145338a44d47e966210c3', 'notSharedWith': []}"
      ]
     },
     "execution_count": 23,
     "metadata": {},
     "output_type": "execute_result"
    }
   ],
   "source": [
    "va_counties_layer = gis.content.search('title:Virginia Counties', item_type =\"Feature Service\")[0]\n",
    "va_counties_layer.share(True)"
   ]
  },
  {
   "cell_type": "markdown",
   "metadata": {},
   "source": [
    "### Dissolve the buffer polygons\n",
    "\n",
    "This is to avoid duplicate results as a result of intersecting buffer polygons."
   ]
  },
  {
   "cell_type": "code",
   "execution_count": 11,
   "metadata": {
    "collapsed": true
   },
   "outputs": [],
   "source": [
    "from arcgis.features.manage_data import dissolve_boundaries\n",
    "\n",
    "dissolve_moth_line = dissolve_boundaries(moth_buffers,output_name=\"dissolve_mothlayer\")"
   ]
  },
  {
   "cell_type": "code",
   "execution_count": 12,
   "metadata": {
    "collapsed": true
   },
   "outputs": [
    {
     "data": {
      "text/html": [
       "<div class=\"item_container\" style=\"height: auto; overflow: hidden; border: 1px solid #cfcfcf; border-radius: 2px; background: #f6fafa; line-height: 1.21429em; padding: 10px;\">\n",
       "                    <div class=\"item_left\" style=\"width: 210px; float: left;\">\n",
       "                       <a href='https://www.arcgis.com/home/item.html?id=2cbbcc516cca4feb91d85f9b57d31fb6' target='_blank'>\n",
       "                        <img src='http://static.arcgis.com/images/desktopapp.png' class=\"itemThumbnail\">\n",
       "                       </a>\n",
       "                    </div>\n",
       "\n",
       "                    <div class=\"item_right\"     style=\"float: none; width: auto; overflow: hidden;\">\n",
       "                        <a href='https://www.arcgis.com/home/item.html?id=2cbbcc516cca4feb91d85f9b57d31fb6' target='_blank'><b>dissolve_mothlayer</b>\n",
       "                        </a>\n",
       "                        <br/><img src='https://www.arcgis.com/home/js/jsapi/esri/css/images/item_type_icons/featureshosted16.png' style=\"vertical-align:middle;\">Feature Layer Collection by arcgis_python\n",
       "                        <br/>Last Modified: April 17, 2017\n",
       "                        <br/>0 comments, 0 views\n",
       "                    </div>\n",
       "                </div>\n",
       "                "
      ],
      "text/plain": [
       "<Item title:\"dissolve_mothlayer\" type:Feature Service owner:arcgis_python>"
      ]
     },
     "execution_count": 12,
     "metadata": {},
     "output_type": "execute_result"
    }
   ],
   "source": [
    "dissolve_mothline"
   ]
  },
  {
   "cell_type": "markdown",
   "metadata": {},
   "source": [
    "### Extract county polygons impacted by moth infestation"
   ]
  },
  {
   "cell_type": "code",
   "execution_count": 26,
   "metadata": {
    "collapsed": false
   },
   "outputs": [],
   "source": [
    "from arcgis.features.manage_data import overlay_layers\n",
    "\n",
    "risk_counties = overlay_layers(moth_buffers, va_counties_layer, overlay_type=\"Intersect\", output_name=\"At_Risk_Counties_2017\")"
   ]
  },
  {
   "cell_type": "code",
   "execution_count": 34,
   "metadata": {
    "collapsed": false
   },
   "outputs": [
    {
     "data": {
      "text/html": [
       "<div class=\"item_container\" style=\"height: auto; overflow: hidden; border: 1px solid #cfcfcf; border-radius: 2px; background: #f6fafa; line-height: 1.21429em; padding: 10px;\">\n",
       "                    <div class=\"item_left\" style=\"width: 210px; float: left;\">\n",
       "                       <a href='https://www.arcgis.com/home/item.html?id=81e572cf26974e5d89fb00fdea482b9d' target='_blank'>\n",
       "                        <img src='http://static.arcgis.com/images/desktopapp.png' class=\"itemThumbnail\">\n",
       "                       </a>\n",
       "                    </div>\n",
       "\n",
       "                    <div class=\"item_right\"     style=\"float: none; width: auto; overflow: hidden;\">\n",
       "                        <a href='https://www.arcgis.com/home/item.html?id=81e572cf26974e5d89fb00fdea482b9d' target='_blank'><b>At_Risk_Counties_2017</b>\n",
       "                        </a>\n",
       "                        <br/><img src='https://www.arcgis.com/home/js/jsapi/esri/css/images/item_type_icons/featureshosted16.png' style=\"vertical-align:middle;\">Feature Layer Collection by arcgis_python\n",
       "                        <br/>Last Modified: April 17, 2017\n",
       "                        <br/>0 comments, 0 views\n",
       "                    </div>\n",
       "                </div>\n",
       "                "
      ],
      "text/plain": [
       "<Item title:\"At_Risk_Counties_2017\" type:Feature Service owner:arcgis_python>"
      ]
     },
     "execution_count": 34,
     "metadata": {},
     "output_type": "execute_result"
    }
   ],
   "source": [
    "risk_counties_map = gis.content.search(\"title:At_Risk_Counties_2017\")\n",
    "risk_counties_map[1]"
   ]
  },
  {
   "cell_type": "markdown",
   "metadata": {
    "deletable": true,
    "editable": true
   },
   "source": [
    "### View the area attribute of the polygons \n",
    "\n"
   ]
  },
  {
   "cell_type": "code",
   "execution_count": null,
   "metadata": {
    "collapsed": false
   },
   "outputs": [],
   "source": [
    "at_risk_va_counties = risk_counties.layers[0]\n",
    "features = at_risk_va_counties.query()\n",
    "result_dataframe = features.df\n",
    "result_dataframe.head(10)"
   ]
  },
  {
   "cell_type": "markdown",
   "metadata": {
    "deletable": true,
    "editable": true
   },
   "source": [
    "### Add results to the map\n",
    "\n"
   ]
  },
  {
   "cell_type": "code",
   "execution_count": 16,
   "metadata": {
    "collapsed": false,
    "deletable": true,
    "editable": true
   },
   "outputs": [],
   "source": [
    "final_map = gis.map('Virginia', 6)"
   ]
  },
  {
   "cell_type": "code",
   "execution_count": 17,
   "metadata": {
    "collapsed": true,
    "deletable": true,
    "editable": true
   },
   "outputs": [],
   "source": [
    "final_map.add_layer(at_risk_va_counties)"
   ]
  }
 ],
 "metadata": {
  "anaconda-cloud": {},
  "kernelspec": {
   "display_name": "Python [default]",
   "language": "python",
   "name": "python3"
  },
  "language_info": {
   "codemirror_mode": {
    "name": "ipython",
    "version": 3.0
   },
   "file_extension": ".py",
   "mimetype": "text/x-python",
   "name": "python",
   "nbconvert_exporter": "python",
   "pygments_lexer": "ipython3",
   "version": "3.5.2"
  },
  "widgets": {
   "state": {
    "6af958f8df0d45adabf0405f14c5b22d": {
     "views": [
      {
       "cell_index": 5.0
      }
     ]
    }
   },
   "version": "1.2.0"
  }
 },
 "nbformat": 4,
 "nbformat_minor": 0
}